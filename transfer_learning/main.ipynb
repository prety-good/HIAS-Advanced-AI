{
 "cells": [
  {
   "cell_type": "code",
   "execution_count": 2,
   "metadata": {},
   "outputs": [],
   "source": [
    "import torch\n",
    "from torch import nn\n",
    "import torchvision"
   ]
  },
  {
   "cell_type": "code",
   "execution_count": 4,
   "metadata": {},
   "outputs": [
    {
     "name": "stdout",
     "output_type": "stream",
     "text": [
      "torch.Size([4, 1000])\n",
      "torch.Size([4, 1000])\n"
     ]
    }
   ],
   "source": [
    "class model(nn.Module):\n",
    "    def __init__(self, num_class):\n",
    "        super().__init__()\n",
    "        self.backbone = torchvision.models.inception_v3(weights=\"DEFAULT\")\n",
    "        self.backbone.fc.out_features = 5\n",
    "        # self.fc = nn.Sequential(nn.Linear(self.backbone.fc.out_features, 500),\n",
    "        #                         nn.ReLU(),\n",
    "        #                         nn.Linear(500, num_class))\n",
    "    def forward(self, x):\n",
    "        x = self.backbone(x)\n",
    "\n",
    "        return x\n",
    "    \n",
    "\n",
    "mode = model(5)\n",
    "x = torch.rand((4, 3, 300,300))\n",
    "y = mode(x)\n",
    "print(y[0].shape)\n",
    "mode.eval()\n",
    "x = torch.rand((4, 3, 300,300))\n",
    "y = mode(x)\n",
    "print(y.shape)"
   ]
  },
  {
   "cell_type": "code",
   "execution_count": 24,
   "metadata": {},
   "outputs": [
    {
     "ename": "AttributeError",
     "evalue": "'generator' object has no attribute 'parameters'",
     "output_type": "error",
     "traceback": [
      "\u001b[1;31m---------------------------------------------------------------------------\u001b[0m",
      "\u001b[1;31mAttributeError\u001b[0m                            Traceback (most recent call last)",
      "Cell \u001b[1;32mIn[24], line 1\u001b[0m\n\u001b[1;32m----> 1\u001b[0m \u001b[43mmode\u001b[49m\u001b[38;5;241;43m.\u001b[39;49m\u001b[43mbackbone\u001b[49m\u001b[38;5;241;43m.\u001b[39;49m\u001b[43mchildren\u001b[49m\u001b[43m(\u001b[49m\u001b[43m)\u001b[49m\u001b[38;5;241;43m.\u001b[39;49m\u001b[43mparameters\u001b[49m()\n",
      "\u001b[1;31mAttributeError\u001b[0m: 'generator' object has no attribute 'parameters'"
     ]
    }
   ],
   "source": [
    "list(mode.backbone.children())[-1]"
   ]
  },
  {
   "cell_type": "code",
   "execution_count": null,
   "metadata": {},
   "outputs": [],
   "source": []
  },
  {
   "cell_type": "code",
   "execution_count": null,
   "metadata": {},
   "outputs": [],
   "source": [
    "from torchvision.models.feature_extraction import get_graph_node_names, create_feature_extractor\n",
    "feature_extractor = create_feature_extractor(model, return_nodes=['encoder'])"
   ]
  }
 ],
 "metadata": {
  "kernelspec": {
   "display_name": "base",
   "language": "python",
   "name": "python3"
  },
  "language_info": {
   "codemirror_mode": {
    "name": "ipython",
    "version": 3
   },
   "file_extension": ".py",
   "mimetype": "text/x-python",
   "name": "python",
   "nbconvert_exporter": "python",
   "pygments_lexer": "ipython3",
   "version": "3.8.18"
  }
 },
 "nbformat": 4,
 "nbformat_minor": 2
}
