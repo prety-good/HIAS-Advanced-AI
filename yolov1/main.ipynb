{
 "cells": [
  {
   "cell_type": "code",
   "execution_count": 2,
   "metadata": {},
   "outputs": [],
   "source": [
    "import torch\n",
    "import torchvision\n",
    "from torchvision.datasets import VOCDetection"
   ]
  },
  {
   "cell_type": "code",
   "execution_count": null,
   "metadata": {},
   "outputs": [],
   "source": [
    "dataset = VOCDetection(root=\"./data\",year=\"2007\",image_set=\"test\")"
   ]
  },
  {
   "cell_type": "code",
   "execution_count": 6,
   "metadata": {},
   "outputs": [
    {
     "data": {
      "text/plain": [
       "'./data/VOC2007_train_val/Annotations\\\\000005.xml'"
      ]
     },
     "execution_count": 6,
     "metadata": {},
     "output_type": "execute_result"
    }
   ],
   "source": [
    "import os\n",
    "directory = './data/VOC2007_train_val/JPEGImages'\n",
    "# os.listdir(\"./data/VOC2007_train_val/JPEGImages\")\n",
    "files_list = [os.path.join(directory, filename) for filename in os.listdir(directory)]\n",
    "files_list[0].replace(\".jpg\", \".xml\").replace(\"JPEGImages\", \"Annotations\")"
   ]
  },
  {
   "cell_type": "code",
   "execution_count": 3,
   "metadata": {},
   "outputs": [],
   "source": [
    "from model import YOLOv1\n",
    "YOLO = YOLOv1().cuda()"
   ]
  },
  {
   "cell_type": "code",
   "execution_count": 5,
   "metadata": {},
   "outputs": [
    {
     "data": {
      "text/plain": [
       "<All keys matched successfully>"
      ]
     },
     "execution_count": 5,
     "metadata": {},
     "output_type": "execute_result"
    }
   ],
   "source": [
    "param_dict = torch.load(\"./weights/YOLOv1_40.pth\", map_location=torch.device(\"cpu\"))['model']\n",
    "YOLO.load_state_dict(param_dict)\n"
   ]
  },
  {
   "cell_type": "code",
   "execution_count": 8,
   "metadata": {},
   "outputs": [],
   "source": [
    "YOLO.cuda()\n",
    "torch.save( YOLO.state_dict(), \"./weights/test.pth\")"
   ]
  },
  {
   "cell_type": "code",
   "execution_count": null,
   "metadata": {},
   "outputs": [],
   "source": [
    "from torchvision.models.feature_extraction import get_graph_node_names, create_feature_extractor\n",
    "\n",
    "\n",
    "backbone = torchvision.models.efficientnet_v2_m(weights='DEFAULT')\n",
    "feature_num = backbone.classifier[1].in_features\n",
    "backbone = nn.Sequential(*list(backbone.children())[:-1])\n",
    "x=torch.rand((8,3,448,448))\n",
    "x = backbone(x)\n",
    "x.shape"
   ]
  }
 ],
 "metadata": {
  "kernelspec": {
   "display_name": "base",
   "language": "python",
   "name": "python3"
  },
  "language_info": {
   "codemirror_mode": {
    "name": "ipython",
    "version": 3
   },
   "file_extension": ".py",
   "mimetype": "text/x-python",
   "name": "python",
   "nbconvert_exporter": "python",
   "pygments_lexer": "ipython3",
   "version": "3.8.18"
  }
 },
 "nbformat": 4,
 "nbformat_minor": 2
}
